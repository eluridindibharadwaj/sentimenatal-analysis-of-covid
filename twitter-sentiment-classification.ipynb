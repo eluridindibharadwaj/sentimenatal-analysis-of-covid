{
 "cells": [
  {
   "cell_type": "markdown",
   "id": "d112bba3",
   "metadata": {
    "papermill": {
     "duration": 0.006532,
     "end_time": "2023-03-22T01:53:56.676992",
     "exception": false,
     "start_time": "2023-03-22T01:53:56.670460",
     "status": "completed"
    },
    "tags": []
   },
   "source": [
    "# Imports"
   ]
  },
  {
   "cell_type": "code",
   "execution_count": 1,
   "id": "b3816459",
   "metadata": {
    "execution": {
     "iopub.execute_input": "2023-03-22T01:53:56.689863Z",
     "iopub.status.busy": "2023-03-22T01:53:56.689431Z",
     "iopub.status.idle": "2023-03-22T01:53:58.202478Z",
     "shell.execute_reply": "2023-03-22T01:53:58.200923Z"
    },
    "papermill": {
     "duration": 1.523079,
     "end_time": "2023-03-22T01:53:58.205525",
     "exception": false,
     "start_time": "2023-03-22T01:53:56.682446",
     "status": "completed"
    },
    "tags": []
   },
   "outputs": [],
   "source": [
    "import matplotlib.pyplot as plt\n",
    "import seaborn as sns\n",
    "import pandas as pd\n",
    "import numpy as np\n",
    "import re\n",
    "import pickle\n",
    "\n",
    "from sklearn.model_selection import train_test_split\n",
    "from sklearn.feature_extraction.text import TfidfVectorizer\n",
    "\n",
    "from sklearn.linear_model import LogisticRegression\n",
    "\n",
    "from sklearn.metrics import classification_report, confusion_matrix, accuracy_score, f1_score\n",
    "\n",
    "import warnings\n",
    "warnings.filterwarnings('ignore')\n",
    "np.random.seed(42)\n",
    "%matplotlib inline"
   ]
  },
  {
   "cell_type": "markdown",
   "id": "7770d58b",
   "metadata": {
    "papermill": {
     "duration": 0.005042,
     "end_time": "2023-03-22T01:53:58.216190",
     "exception": false,
     "start_time": "2023-03-22T01:53:58.211148",
     "status": "completed"
    },
    "tags": []
   },
   "source": [
    "# Data"
   ]
  },
  {
   "cell_type": "code",
   "execution_count": 2,
   "id": "77e25708",
   "metadata": {
    "execution": {
     "iopub.execute_input": "2023-03-22T01:53:58.228968Z",
     "iopub.status.busy": "2023-03-22T01:53:58.228161Z",
     "iopub.status.idle": "2023-03-22T01:54:05.499100Z",
     "shell.execute_reply": "2023-03-22T01:54:05.497951Z"
    },
    "papermill": {
     "duration": 7.281083,
     "end_time": "2023-03-22T01:54:05.502555",
     "exception": false,
     "start_time": "2023-03-22T01:53:58.221472",
     "status": "completed"
    },
    "tags": []
   },
   "outputs": [
    {
     "data": {
      "text/html": [
       "<div>\n",
       "<style scoped>\n",
       "    .dataframe tbody tr th:only-of-type {\n",
       "        vertical-align: middle;\n",
       "    }\n",
       "\n",
       "    .dataframe tbody tr th {\n",
       "        vertical-align: top;\n",
       "    }\n",
       "\n",
       "    .dataframe thead th {\n",
       "        text-align: right;\n",
       "    }\n",
       "</style>\n",
       "<table border=\"1\" class=\"dataframe\">\n",
       "  <thead>\n",
       "    <tr style=\"text-align: right;\">\n",
       "      <th></th>\n",
       "      <th>target</th>\n",
       "      <th>tweet_id</th>\n",
       "      <th>time</th>\n",
       "      <th>flag</th>\n",
       "      <th>user</th>\n",
       "      <th>text</th>\n",
       "    </tr>\n",
       "  </thead>\n",
       "  <tbody>\n",
       "    <tr>\n",
       "      <th>0</th>\n",
       "      <td>0</td>\n",
       "      <td>1467810672</td>\n",
       "      <td>Mon Apr 06 22:19:49 PDT 2009</td>\n",
       "      <td>NO_QUERY</td>\n",
       "      <td>scotthamilton</td>\n",
       "      <td>is upset that he can't update his Facebook by ...</td>\n",
       "    </tr>\n",
       "    <tr>\n",
       "      <th>1</th>\n",
       "      <td>0</td>\n",
       "      <td>1467810917</td>\n",
       "      <td>Mon Apr 06 22:19:53 PDT 2009</td>\n",
       "      <td>NO_QUERY</td>\n",
       "      <td>mattycus</td>\n",
       "      <td>@Kenichan I dived many times for the ball. Man...</td>\n",
       "    </tr>\n",
       "    <tr>\n",
       "      <th>2</th>\n",
       "      <td>0</td>\n",
       "      <td>1467811184</td>\n",
       "      <td>Mon Apr 06 22:19:57 PDT 2009</td>\n",
       "      <td>NO_QUERY</td>\n",
       "      <td>ElleCTF</td>\n",
       "      <td>my whole body feels itchy and like its on fire</td>\n",
       "    </tr>\n",
       "    <tr>\n",
       "      <th>3</th>\n",
       "      <td>0</td>\n",
       "      <td>1467811193</td>\n",
       "      <td>Mon Apr 06 22:19:57 PDT 2009</td>\n",
       "      <td>NO_QUERY</td>\n",
       "      <td>Karoli</td>\n",
       "      <td>@nationwideclass no, it's not behaving at all....</td>\n",
       "    </tr>\n",
       "    <tr>\n",
       "      <th>4</th>\n",
       "      <td>0</td>\n",
       "      <td>1467811372</td>\n",
       "      <td>Mon Apr 06 22:20:00 PDT 2009</td>\n",
       "      <td>NO_QUERY</td>\n",
       "      <td>joy_wolf</td>\n",
       "      <td>@Kwesidei not the whole crew</td>\n",
       "    </tr>\n",
       "  </tbody>\n",
       "</table>\n",
       "</div>"
      ],
      "text/plain": [
       "   target    tweet_id                          time      flag           user  \\\n",
       "0       0  1467810672  Mon Apr 06 22:19:49 PDT 2009  NO_QUERY  scotthamilton   \n",
       "1       0  1467810917  Mon Apr 06 22:19:53 PDT 2009  NO_QUERY       mattycus   \n",
       "2       0  1467811184  Mon Apr 06 22:19:57 PDT 2009  NO_QUERY        ElleCTF   \n",
       "3       0  1467811193  Mon Apr 06 22:19:57 PDT 2009  NO_QUERY         Karoli   \n",
       "4       0  1467811372  Mon Apr 06 22:20:00 PDT 2009  NO_QUERY       joy_wolf   \n",
       "\n",
       "                                                text  \n",
       "0  is upset that he can't update his Facebook by ...  \n",
       "1  @Kenichan I dived many times for the ball. Man...  \n",
       "2    my whole body feels itchy and like its on fire   \n",
       "3  @nationwideclass no, it's not behaving at all....  \n",
       "4                      @Kwesidei not the whole crew   "
      ]
     },
     "execution_count": 2,
     "metadata": {},
     "output_type": "execute_result"
    }
   ],
   "source": [
    "df = pd.read_csv('/kaggle/input/sentiment140/training.1600000.processed.noemoticon.csv', encoding='latin')\n",
    "df.columns = ['target', 'tweet_id', 'time', 'flag', 'user', 'text']\n",
    "df.head()"
   ]
  },
  {
   "cell_type": "code",
   "execution_count": 3,
   "id": "0e547499",
   "metadata": {
    "execution": {
     "iopub.execute_input": "2023-03-22T01:54:05.515811Z",
     "iopub.status.busy": "2023-03-22T01:54:05.515178Z",
     "iopub.status.idle": "2023-03-22T01:54:05.552383Z",
     "shell.execute_reply": "2023-03-22T01:54:05.551274Z"
    },
    "papermill": {
     "duration": 0.046879,
     "end_time": "2023-03-22T01:54:05.555126",
     "exception": false,
     "start_time": "2023-03-22T01:54:05.508247",
     "status": "completed"
    },
    "tags": []
   },
   "outputs": [],
   "source": [
    "features ='text'\n",
    "target = 'target'\n",
    "\n",
    "df = df[[features, target]]"
   ]
  },
  {
   "cell_type": "markdown",
   "id": "fe85c448",
   "metadata": {
    "papermill": {
     "duration": 0.005381,
     "end_time": "2023-03-22T01:54:05.566364",
     "exception": false,
     "start_time": "2023-03-22T01:54:05.560983",
     "status": "completed"
    },
    "tags": []
   },
   "source": [
    "# Preprocessing\n",
    "---"
   ]
  },
  {
   "cell_type": "code",
   "execution_count": 4,
   "id": "417f3369",
   "metadata": {
    "execution": {
     "iopub.execute_input": "2023-03-22T01:54:05.580007Z",
     "iopub.status.busy": "2023-03-22T01:54:05.578822Z",
     "iopub.status.idle": "2023-03-22T01:54:05.692883Z",
     "shell.execute_reply": "2023-03-22T01:54:05.691368Z"
    },
    "papermill": {
     "duration": 0.123883,
     "end_time": "2023-03-22T01:54:05.695815",
     "exception": false,
     "start_time": "2023-03-22T01:54:05.571932",
     "status": "completed"
    },
    "tags": []
   },
   "outputs": [
    {
     "name": "stdout",
     "output_type": "stream",
     "text": [
      "<class 'pandas.core.frame.DataFrame'>\n",
      "RangeIndex: 1599999 entries, 0 to 1599998\n",
      "Data columns (total 2 columns):\n",
      " #   Column  Non-Null Count    Dtype \n",
      "---  ------  --------------    ----- \n",
      " 0   text    1599999 non-null  object\n",
      " 1   target  1599999 non-null  int64 \n",
      "dtypes: int64(1), object(1)\n",
      "memory usage: 24.4+ MB\n"
     ]
    }
   ],
   "source": [
    "df.info()"
   ]
  },
  {
   "cell_type": "markdown",
   "id": "75e139f4",
   "metadata": {
    "papermill": {
     "duration": 0.006104,
     "end_time": "2023-03-22T01:54:05.708280",
     "exception": false,
     "start_time": "2023-03-22T01:54:05.702176",
     "status": "completed"
    },
    "tags": []
   },
   "source": [
    "## Downcasting"
   ]
  },
  {
   "cell_type": "code",
   "execution_count": 5,
   "id": "72447c2a",
   "metadata": {
    "execution": {
     "iopub.execute_input": "2023-03-22T01:54:05.722125Z",
     "iopub.status.busy": "2023-03-22T01:54:05.721636Z",
     "iopub.status.idle": "2023-03-22T01:54:05.759658Z",
     "shell.execute_reply": "2023-03-22T01:54:05.758322Z"
    },
    "papermill": {
     "duration": 0.048188,
     "end_time": "2023-03-22T01:54:05.762434",
     "exception": false,
     "start_time": "2023-03-22T01:54:05.714246",
     "status": "completed"
    },
    "tags": []
   },
   "outputs": [],
   "source": [
    "df['target'] = pd.to_numeric(df['target'], downcast='integer')"
   ]
  },
  {
   "cell_type": "code",
   "execution_count": 6,
   "id": "ebc83f2d",
   "metadata": {
    "execution": {
     "iopub.execute_input": "2023-03-22T01:54:05.776293Z",
     "iopub.status.busy": "2023-03-22T01:54:05.775861Z",
     "iopub.status.idle": "2023-03-22T01:54:05.878945Z",
     "shell.execute_reply": "2023-03-22T01:54:05.877619Z"
    },
    "papermill": {
     "duration": 0.113388,
     "end_time": "2023-03-22T01:54:05.881837",
     "exception": false,
     "start_time": "2023-03-22T01:54:05.768449",
     "status": "completed"
    },
    "tags": []
   },
   "outputs": [
    {
     "name": "stdout",
     "output_type": "stream",
     "text": [
      "<class 'pandas.core.frame.DataFrame'>\n",
      "RangeIndex: 1599999 entries, 0 to 1599998\n",
      "Data columns (total 2 columns):\n",
      " #   Column  Non-Null Count    Dtype \n",
      "---  ------  --------------    ----- \n",
      " 0   text    1599999 non-null  object\n",
      " 1   target  1599999 non-null  int8  \n",
      "dtypes: int8(1), object(1)\n",
      "memory usage: 13.7+ MB\n"
     ]
    }
   ],
   "source": [
    "df.info()"
   ]
  },
  {
   "cell_type": "markdown",
   "id": "0cc0cb5f",
   "metadata": {
    "papermill": {
     "duration": 0.005846,
     "end_time": "2023-03-22T01:54:05.893914",
     "exception": false,
     "start_time": "2023-03-22T01:54:05.888068",
     "status": "completed"
    },
    "tags": []
   },
   "source": [
    "## Formatting"
   ]
  },
  {
   "cell_type": "code",
   "execution_count": 7,
   "id": "a2c8ceea",
   "metadata": {
    "execution": {
     "iopub.execute_input": "2023-03-22T01:54:05.911168Z",
     "iopub.status.busy": "2023-03-22T01:54:05.910342Z",
     "iopub.status.idle": "2023-03-22T01:54:05.935984Z",
     "shell.execute_reply": "2023-03-22T01:54:05.934665Z"
    },
    "papermill": {
     "duration": 0.035832,
     "end_time": "2023-03-22T01:54:05.938752",
     "exception": false,
     "start_time": "2023-03-22T01:54:05.902920",
     "status": "completed"
    },
    "tags": []
   },
   "outputs": [
    {
     "data": {
      "text/plain": [
       "1    800000\n",
       "0    799999\n",
       "Name: target, dtype: int64"
      ]
     },
     "execution_count": 7,
     "metadata": {},
     "output_type": "execute_result"
    }
   ],
   "source": [
    "df['target'] = df['target'].replace(4, 1)\n",
    "df['target'].value_counts()"
   ]
  },
  {
   "cell_type": "code",
   "execution_count": 8,
   "id": "1fc1ed6b",
   "metadata": {
    "execution": {
     "iopub.execute_input": "2023-03-22T01:54:05.953364Z",
     "iopub.status.busy": "2023-03-22T01:54:05.952963Z",
     "iopub.status.idle": "2023-03-22T01:54:13.209270Z",
     "shell.execute_reply": "2023-03-22T01:54:13.207969Z"
    },
    "papermill": {
     "duration": 7.267086,
     "end_time": "2023-03-22T01:54:13.212071",
     "exception": false,
     "start_time": "2023-03-22T01:54:05.944985",
     "status": "completed"
    },
    "tags": []
   },
   "outputs": [],
   "source": [
    "# take out the @usernames\n",
    "df['text'] = df['text'].apply(lambda x: re.sub('@[^\\s]+','',x))\n",
    "\n",
    "# take out the links\n",
    "df[\"text\"] = df[\"text\"].apply(lambda x: re.sub(r\"http\\S+\", \"\", x))\n",
    "\n",
    "# take out the hashtags\n",
    "df[\"text\"] = df[\"text\"].apply(lambda x: re.sub(r\"#\\S+\", \"\", x))"
   ]
  },
  {
   "cell_type": "code",
   "execution_count": 9,
   "id": "ed118448",
   "metadata": {
    "execution": {
     "iopub.execute_input": "2023-03-22T01:54:13.227652Z",
     "iopub.status.busy": "2023-03-22T01:54:13.226556Z",
     "iopub.status.idle": "2023-03-22T01:54:13.377862Z",
     "shell.execute_reply": "2023-03-22T01:54:13.376281Z"
    },
    "papermill": {
     "duration": 0.161817,
     "end_time": "2023-03-22T01:54:13.380631",
     "exception": false,
     "start_time": "2023-03-22T01:54:13.218814",
     "status": "completed"
    },
    "tags": []
   },
   "outputs": [
    {
     "name": "stdout",
     "output_type": "stream",
     "text": [
      "<class 'pandas.core.frame.DataFrame'>\n",
      "RangeIndex: 1599999 entries, 0 to 1599998\n",
      "Data columns (total 2 columns):\n",
      " #   Column  Non-Null Count    Dtype \n",
      "---  ------  --------------    ----- \n",
      " 0   text    1599999 non-null  object\n",
      " 1   target  1599999 non-null  int8  \n",
      "dtypes: int8(1), object(1)\n",
      "memory usage: 13.7+ MB\n"
     ]
    }
   ],
   "source": [
    "df.info()"
   ]
  },
  {
   "cell_type": "markdown",
   "id": "434ff6d1",
   "metadata": {
    "papermill": {
     "duration": 0.006136,
     "end_time": "2023-03-22T01:54:13.393329",
     "exception": false,
     "start_time": "2023-03-22T01:54:13.387193",
     "status": "completed"
    },
    "tags": []
   },
   "source": [
    "# Modeling\n",
    "---"
   ]
  },
  {
   "cell_type": "code",
   "execution_count": 10,
   "id": "a26b9d80",
   "metadata": {
    "execution": {
     "iopub.execute_input": "2023-03-22T01:54:13.408447Z",
     "iopub.status.busy": "2023-03-22T01:54:13.408035Z",
     "iopub.status.idle": "2023-03-22T01:54:13.790503Z",
     "shell.execute_reply": "2023-03-22T01:54:13.789205Z"
    },
    "papermill": {
     "duration": 0.393713,
     "end_time": "2023-03-22T01:54:13.793566",
     "exception": false,
     "start_time": "2023-03-22T01:54:13.399853",
     "status": "completed"
    },
    "tags": []
   },
   "outputs": [],
   "source": [
    "X_train, X_test, y_train, y_test = train_test_split(df[\"text\"], df[\"target\"], test_size=0.2, random_state=42)"
   ]
  },
  {
   "cell_type": "code",
   "execution_count": 11,
   "id": "47565c52",
   "metadata": {
    "execution": {
     "iopub.execute_input": "2023-03-22T01:54:13.808173Z",
     "iopub.status.busy": "2023-03-22T01:54:13.807758Z",
     "iopub.status.idle": "2023-03-22T01:54:38.882357Z",
     "shell.execute_reply": "2023-03-22T01:54:38.880991Z"
    },
    "papermill": {
     "duration": 25.085277,
     "end_time": "2023-03-22T01:54:38.885269",
     "exception": false,
     "start_time": "2023-03-22T01:54:13.799992",
     "status": "completed"
    },
    "tags": []
   },
   "outputs": [],
   "source": [
    "vectorizer = TfidfVectorizer()\n",
    "X_train = vectorizer.fit_transform(X_train)\n",
    "X_test = vectorizer.transform(X_test)"
   ]
  },
  {
   "cell_type": "markdown",
   "id": "6c1d860c",
   "metadata": {
    "papermill": {
     "duration": 0.006504,
     "end_time": "2023-03-22T01:54:38.899074",
     "exception": false,
     "start_time": "2023-03-22T01:54:38.892570",
     "status": "completed"
    },
    "tags": []
   },
   "source": [
    "## Logistic Regression"
   ]
  },
  {
   "cell_type": "code",
   "execution_count": 12,
   "id": "9b71f065",
   "metadata": {
    "execution": {
     "iopub.execute_input": "2023-03-22T01:54:38.914095Z",
     "iopub.status.busy": "2023-03-22T01:54:38.913645Z",
     "iopub.status.idle": "2023-03-22T01:55:14.615061Z",
     "shell.execute_reply": "2023-03-22T01:55:14.613540Z"
    },
    "papermill": {
     "duration": 35.71259,
     "end_time": "2023-03-22T01:55:14.618292",
     "exception": false,
     "start_time": "2023-03-22T01:54:38.905702",
     "status": "completed"
    },
    "tags": []
   },
   "outputs": [
    {
     "data": {
      "text/plain": [
       "0.79904375"
      ]
     },
     "execution_count": 12,
     "metadata": {},
     "output_type": "execute_result"
    }
   ],
   "source": [
    "lr = LogisticRegression()\n",
    "lr.fit(X_train, y_train)\n",
    "lr.score(X_test, y_test)\n"
   ]
  },
  {
   "cell_type": "code",
   "execution_count": 13,
   "id": "bca47dbc",
   "metadata": {
    "execution": {
     "iopub.execute_input": "2023-03-22T01:55:14.633270Z",
     "iopub.status.busy": "2023-03-22T01:55:14.632874Z",
     "iopub.status.idle": "2023-03-22T01:55:15.498945Z",
     "shell.execute_reply": "2023-03-22T01:55:15.496966Z"
    },
    "papermill": {
     "duration": 0.876881,
     "end_time": "2023-03-22T01:55:15.501772",
     "exception": false,
     "start_time": "2023-03-22T01:55:14.624891",
     "status": "completed"
    },
    "tags": []
   },
   "outputs": [
    {
     "name": "stdout",
     "output_type": "stream",
     "text": [
      "F1 Score:  0.8013616116935509\n",
      "Accuracy:  0.79904375 \n",
      "\n",
      "              precision    recall  f1-score   support\n",
      "\n",
      "           0       0.80      0.79      0.80    159494\n",
      "           1       0.79      0.81      0.80    160506\n",
      "\n",
      "    accuracy                           0.80    320000\n",
      "   macro avg       0.80      0.80      0.80    320000\n",
      "weighted avg       0.80      0.80      0.80    320000\n",
      "\n",
      "Confusion Matrix:\n",
      " [[125980  33514]\n",
      " [ 30792 129714]]\n"
     ]
    }
   ],
   "source": [
    "print(\"F1 Score: \", f1_score(y_test, lr.predict(X_test)))\n",
    "print('Accuracy: ', accuracy_score(y_test, lr.predict(X_test)), \"\\n\")\n",
    "print(classification_report(y_test, lr.predict(X_test)))\n",
    "print('Confusion Matrix:\\n', confusion_matrix(y_test, lr.predict(X_test)))"
   ]
  },
  {
   "cell_type": "markdown",
   "id": "2f49f8c2",
   "metadata": {
    "papermill": {
     "duration": 0.006618,
     "end_time": "2023-03-22T01:55:15.515253",
     "exception": false,
     "start_time": "2023-03-22T01:55:15.508635",
     "status": "completed"
    },
    "tags": []
   },
   "source": [
    "# Implementation"
   ]
  },
  {
   "cell_type": "code",
   "execution_count": 14,
   "id": "10f5475d",
   "metadata": {
    "execution": {
     "iopub.execute_input": "2023-03-22T01:55:15.531568Z",
     "iopub.status.busy": "2023-03-22T01:55:15.530582Z",
     "iopub.status.idle": "2023-03-22T01:55:15.536375Z",
     "shell.execute_reply": "2023-03-22T01:55:15.535230Z"
    },
    "papermill": {
     "duration": 0.017303,
     "end_time": "2023-03-22T01:55:15.539353",
     "exception": false,
     "start_time": "2023-03-22T01:55:15.522050",
     "status": "completed"
    },
    "tags": []
   },
   "outputs": [],
   "source": [
    "predict = lambda x: lr.predict(vectorizer.transform([x]))\n",
    "sentiment  = lambda x: 'positive' if predict(x) == 1 else 'negative'"
   ]
  },
  {
   "cell_type": "code",
   "execution_count": 15,
   "id": "e8288eb5",
   "metadata": {
    "execution": {
     "iopub.execute_input": "2023-03-22T01:55:15.556436Z",
     "iopub.status.busy": "2023-03-22T01:55:15.555638Z",
     "iopub.status.idle": "2023-03-22T01:55:15.566364Z",
     "shell.execute_reply": "2023-03-22T01:55:15.565090Z"
    },
    "papermill": {
     "duration": 0.022246,
     "end_time": "2023-03-22T01:55:15.569020",
     "exception": false,
     "start_time": "2023-03-22T01:55:15.546774",
     "status": "completed"
    },
    "tags": []
   },
   "outputs": [
    {
     "data": {
      "text/plain": [
       "'positive'"
      ]
     },
     "execution_count": 15,
     "metadata": {},
     "output_type": "execute_result"
    }
   ],
   "source": [
    "tweet = \"I love this movie\"\n",
    "sentiment(tweet)"
   ]
  },
  {
   "cell_type": "markdown",
   "id": "327883cc",
   "metadata": {
    "papermill": {
     "duration": 0.007263,
     "end_time": "2023-03-22T01:55:15.583342",
     "exception": false,
     "start_time": "2023-03-22T01:55:15.576079",
     "status": "completed"
    },
    "tags": []
   },
   "source": [
    "# Interpretation"
   ]
  },
  {
   "cell_type": "code",
   "execution_count": 16,
   "id": "b2fabda0",
   "metadata": {
    "execution": {
     "iopub.execute_input": "2023-03-22T01:55:15.599557Z",
     "iopub.status.busy": "2023-03-22T01:55:15.599105Z",
     "iopub.status.idle": "2023-03-22T01:55:16.089324Z",
     "shell.execute_reply": "2023-03-22T01:55:16.088004Z"
    },
    "papermill": {
     "duration": 0.501324,
     "end_time": "2023-03-22T01:55:16.091886",
     "exception": false,
     "start_time": "2023-03-22T01:55:15.590562",
     "status": "completed"
    },
    "tags": []
   },
   "outputs": [
    {
     "data": {
      "text/html": [
       "<div>\n",
       "<style scoped>\n",
       "    .dataframe tbody tr th:only-of-type {\n",
       "        vertical-align: middle;\n",
       "    }\n",
       "\n",
       "    .dataframe tbody tr th {\n",
       "        vertical-align: top;\n",
       "    }\n",
       "\n",
       "    .dataframe thead th {\n",
       "        text-align: right;\n",
       "    }\n",
       "</style>\n",
       "<table border=\"1\" class=\"dataframe\">\n",
       "  <thead>\n",
       "    <tr style=\"text-align: right;\">\n",
       "      <th></th>\n",
       "      <th>coefficients</th>\n",
       "      <th>abs</th>\n",
       "    </tr>\n",
       "  </thead>\n",
       "  <tbody>\n",
       "    <tr>\n",
       "      <th>sad</th>\n",
       "      <td>-12.930807</td>\n",
       "      <td>12.930807</td>\n",
       "    </tr>\n",
       "    <tr>\n",
       "      <th>miss</th>\n",
       "      <td>-9.299615</td>\n",
       "      <td>9.299615</td>\n",
       "    </tr>\n",
       "    <tr>\n",
       "      <th>missing</th>\n",
       "      <td>-7.794212</td>\n",
       "      <td>7.794212</td>\n",
       "    </tr>\n",
       "    <tr>\n",
       "      <th>poor</th>\n",
       "      <td>-7.730194</td>\n",
       "      <td>7.730194</td>\n",
       "    </tr>\n",
       "    <tr>\n",
       "      <th>sucks</th>\n",
       "      <td>-7.438200</td>\n",
       "      <td>7.438200</td>\n",
       "    </tr>\n",
       "    <tr>\n",
       "      <th>sadly</th>\n",
       "      <td>-7.277383</td>\n",
       "      <td>7.277383</td>\n",
       "    </tr>\n",
       "    <tr>\n",
       "      <th>sick</th>\n",
       "      <td>-7.155584</td>\n",
       "      <td>7.155584</td>\n",
       "    </tr>\n",
       "    <tr>\n",
       "      <th>unfortunately</th>\n",
       "      <td>-7.105414</td>\n",
       "      <td>7.105414</td>\n",
       "    </tr>\n",
       "    <tr>\n",
       "      <th>died</th>\n",
       "      <td>-7.100817</td>\n",
       "      <td>7.100817</td>\n",
       "    </tr>\n",
       "    <tr>\n",
       "      <th>bummed</th>\n",
       "      <td>-6.289225</td>\n",
       "      <td>6.289225</td>\n",
       "    </tr>\n",
       "  </tbody>\n",
       "</table>\n",
       "</div>"
      ],
      "text/plain": [
       "               coefficients        abs\n",
       "sad              -12.930807  12.930807\n",
       "miss              -9.299615   9.299615\n",
       "missing           -7.794212   7.794212\n",
       "poor              -7.730194   7.730194\n",
       "sucks             -7.438200   7.438200\n",
       "sadly             -7.277383   7.277383\n",
       "sick              -7.155584   7.155584\n",
       "unfortunately     -7.105414   7.105414\n",
       "died              -7.100817   7.100817\n",
       "bummed            -6.289225   6.289225"
      ]
     },
     "execution_count": 16,
     "metadata": {},
     "output_type": "execute_result"
    }
   ],
   "source": [
    "coefficients = pd.DataFrame(lr.coef_, columns=vectorizer.get_feature_names()).T\n",
    "coefficients.columns = ['coefficients']\n",
    "coefficients['abs'] = coefficients['coefficients'].apply(lambda x: abs(x))\n",
    "coefficients.sort_values(by='abs', ascending=False).head(10)"
   ]
  },
  {
   "cell_type": "code",
   "execution_count": 17,
   "id": "c465a0d0",
   "metadata": {
    "execution": {
     "iopub.execute_input": "2023-03-22T01:55:16.108861Z",
     "iopub.status.busy": "2023-03-22T01:55:16.107887Z",
     "iopub.status.idle": "2023-03-22T01:55:16.657858Z",
     "shell.execute_reply": "2023-03-22T01:55:16.656224Z"
    },
    "papermill": {
     "duration": 0.561079,
     "end_time": "2023-03-22T01:55:16.660242",
     "exception": false,
     "start_time": "2023-03-22T01:55:16.099163",
     "status": "completed"
    },
    "tags": []
   },
   "outputs": [
    {
     "data": {
      "image/png": "[encoded data removed]",
      "text/plain": [
       "<Figure size 1000x1000 with 1 Axes>"
      ]
     },
     "metadata": {},
     "output_type": "display_data"
    }
   ],
   "source": [
    "plt.figure(figsize=(10, 10))\n",
    "sns.barplot(x='coefficients', y=coefficients.sort_values(by='abs', ascending=False).head(10).index, data=coefficients.sort_values(by='abs', ascending=False).head(10))\n",
    "plt.title('Top 10 Positive and Negative Words')\n",
    "plt.show()"
   ]
  },
  {
   "cell_type": "code",
   "execution_count": 18,
   "id": "172fb583",
   "metadata": {
    "execution": {
     "iopub.execute_input": "2023-03-22T01:55:16.678683Z",
     "iopub.status.busy": "2023-03-22T01:55:16.677888Z",
     "iopub.status.idle": "2023-03-22T01:55:17.080061Z",
     "shell.execute_reply": "2023-03-22T01:55:17.078675Z"
    },
    "papermill": {
     "duration": 0.414489,
     "end_time": "2023-03-22T01:55:17.082974",
     "exception": false,
     "start_time": "2023-03-22T01:55:16.668485",
     "status": "completed"
    },
    "tags": []
   },
   "outputs": [
    {
     "data": {
      "image/png": "[encoded data removed]",
      "text/plain": [
       "<Figure size 1000x1000 with 1 Axes>"
      ]
     },
     "metadata": {},
     "output_type": "display_data"
    }
   ],
   "source": [
    "plt.figure(figsize=(10, 10))\n",
    "sns.barplot(x='coefficients', y=coefficients.sort_values(by='abs', ascending=False).tail(10).index, data=coefficients.sort_values(by='abs', ascending=False).tail(10))\n",
    "plt.title('Top 10 Positive and Negative Words')\n",
    "plt.show()"
   ]
  }
 ],
 "metadata": {
  "kernelspec": {
   "display_name": "Python 3",
   "language": "python",
   "name": "python3"
  },
  "language_info": {
   "codemirror_mode": {
    "name": "ipython",
    "version": 3
   },
   "file_extension": ".py",
   "mimetype": "text/x-python",
   "name": "python",
   "nbconvert_exporter": "python",
   "pygments_lexer": "ipython3",
   "version": "3.7.12"
  },
  "papermill": {
   "default_parameters": {},
   "duration": 91.443671,
   "end_time": "2023-03-22T01:55:18.015254",
   "environment_variables": {},
   "exception": null,
   "input_path": "__notebook__.ipynb",
   "output_path": "__notebook__.ipynb",
   "parameters": {},
   "start_time": "2023-03-22T01:53:46.571583",
   "version": "2.4.0"
  }
 },
 "nbformat": 4,
 "nbformat_minor": 5
}
